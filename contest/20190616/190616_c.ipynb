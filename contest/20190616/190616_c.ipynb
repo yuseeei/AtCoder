{
 "cells": [
  {
   "cell_type": "code",
   "execution_count": 62,
   "metadata": {},
   "outputs": [
    {
     "name": "stdout",
     "output_type": "stream",
     "text": [
      "1 2 3 4\n",
      "1.0\n",
      "0\n"
     ]
    }
   ],
   "source": [
    "INPUT = list(map(int, input().split()))\n",
    "\n",
    "x = INPUT[2]\n",
    "y = INPUT[3]\n",
    "\n",
    "cx = INPUT[0]/2\n",
    "cy = INPUT[1]/2\n",
    "\n",
    "min_area = INPUT[0]*INPUT[1]/2\n",
    "\n",
    "print(min_area)\n",
    "\n",
    "if x == cx and y == cy:\n",
    "    print(1)\n",
    "else:\n",
    "    print(0)"
   ]
  },
  {
   "cell_type": "code",
   "execution_count": null,
   "metadata": {},
   "outputs": [],
   "source": []
  }
 ],
 "metadata": {
  "kernelspec": {
   "display_name": "Python 3",
   "language": "python",
   "name": "python3"
  },
  "language_info": {
   "codemirror_mode": {
    "name": "ipython",
    "version": 3
   },
   "file_extension": ".py",
   "mimetype": "text/x-python",
   "name": "python",
   "nbconvert_exporter": "python",
   "pygments_lexer": "ipython3",
   "version": "3.7.3"
  }
 },
 "nbformat": 4,
 "nbformat_minor": 2
}
