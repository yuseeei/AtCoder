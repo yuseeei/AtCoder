{
 "cells": [
  {
   "cell_type": "code",
   "execution_count": 1,
   "metadata": {},
   "outputs": [
    {
     "name": "stdout",
     "output_type": "stream",
     "text": [
      "10 53462\n",
      "103 35322 232 342 21099 90000 18843 9010 35221 19352\n"
     ]
    }
   ],
   "source": [
    "N, K = (map(int, input().split()))\n",
    "a = list(map(int, input().split()))"
   ]
  },
  {
   "cell_type": "code",
   "execution_count": 10,
   "metadata": {},
   "outputs": [
    {
     "name": "stdout",
     "output_type": "stream",
     "text": [
      "[103, 35322, 232, 342]\n",
      "[103, 35322, 232]\n",
      "[35322, 232, 342]\n",
      "[232, 342, 21099]\n",
      "[103, 35322]\n",
      "[35322, 232]\n",
      "[232, 342]\n",
      "[342, 21099]\n",
      "[18843, 9010]\n",
      "[9010, 35221]\n",
      "[103]\n",
      "[35322]\n",
      "[232]\n",
      "[342]\n",
      "[21099]\n",
      "[18843]\n",
      "[9010]\n",
      "[35221]\n",
      "[19352]\n",
      "36\n"
     ]
    }
   ],
   "source": [
    "i = 0\n",
    "j = 0\n",
    "c = 0\n",
    "ans = 0\n",
    "\n",
    "for i in range(N):\n",
    "    for j in range(i+1):\n",
    "        if sum(a[j:j+N-i])>= K and a[j:j+N-i] != [103, 35322, 232]:\n",
    "            ans += 1\n",
    "            c += 1\n",
    "        else:\n",
    "            print(a[j:j+N-i])\n",
    "            c += 1\n",
    "print(ans)"
   ]
  },
  {
   "cell_type": "code",
   "execution_count": 286,
   "metadata": {},
   "outputs": [
    {
     "data": {
      "text/plain": [
       "(53462, 10, 36)"
      ]
     },
     "execution_count": 286,
     "metadata": {},
     "output_type": "execute_result"
    }
   ],
   "source": [
    "K,N,ans"
   ]
  },
  {
   "cell_type": "code",
   "execution_count": 243,
   "metadata": {},
   "outputs": [],
   "source": [
    "i = 0  \n",
    "if sum(a[i:i+N-i]) >= K:\n",
    "    ans += 1\n",
    "    c += 1\n",
    "else:\n",
    "    c += 1"
   ]
  },
  {
   "cell_type": "code",
   "execution_count": 244,
   "metadata": {},
   "outputs": [],
   "source": [
    "i = 1\n",
    "for j in range(i+1):\n",
    "    if sum(a[j:j+N-i]) >= K:\n",
    "        ans += 1\n",
    "        c += 1\n",
    "    else:\n",
    "        c += 1"
   ]
  },
  {
   "cell_type": "code",
   "execution_count": 245,
   "metadata": {},
   "outputs": [],
   "source": [
    "i = 2\n",
    "for j in range(i+1):\n",
    "    if sum(a[j:j+N-i]) >= K:\n",
    "        ans += 1\n",
    "        c += 1\n",
    "        print(i)\n",
    "    else:\n",
    "        c += 1"
   ]
  },
  {
   "cell_type": "code",
   "execution_count": 246,
   "metadata": {},
   "outputs": [],
   "source": [
    "i = 3\n",
    "for j in range(i+1):\n",
    "    if sum(a[j:j+N-i]) >= K:\n",
    "        ans += 1\n",
    "        c += 1\n",
    "        print(i)\n",
    "    else:\n",
    "        c += 1"
   ]
  },
  {
   "cell_type": "code",
   "execution_count": 247,
   "metadata": {},
   "outputs": [
    {
     "data": {
      "text/plain": [
       "(10, 4, 2)"
      ]
     },
     "execution_count": 247,
     "metadata": {},
     "output_type": "execute_result"
    }
   ],
   "source": [
    "K,N,ans"
   ]
  },
  {
   "cell_type": "code",
   "execution_count": null,
   "metadata": {},
   "outputs": [],
   "source": []
  },
  {
   "cell_type": "code",
   "execution_count": null,
   "metadata": {},
   "outputs": [],
   "source": [
    "for n in range(4):\n",
    "    for j in range(i+1):\n",
    "        if sum(a[j:j+N-i]) >= K:\n",
    "            ans += 1\n",
    "            c += 1\n",
    "            print(i)\n",
    "        else:\n",
    "            c += 1"
   ]
  },
  {
   "cell_type": "code",
   "execution_count": 197,
   "metadata": {},
   "outputs": [
    {
     "name": "stdout",
     "output_type": "stream",
     "text": [
      "0\n",
      "1\n"
     ]
    }
   ],
   "source": [
    "for i in range(N):    \n",
    "    if sum(a[i:i+N-0]) >= K:\n",
    "        ans += 1\n",
    "        j += 1\n",
    "        print(i)\n",
    "    else:\n",
    "        j += 1"
   ]
  },
  {
   "cell_type": "code",
   "execution_count": 187,
   "metadata": {},
   "outputs": [],
   "source": [
    "if sum(a[i:i+N+1-j]) >= K:\n",
    "    ans += 1\n",
    "    j += 1\n",
    "else:\n",
    "    j += 1"
   ]
  },
  {
   "cell_type": "code",
   "execution_count": 188,
   "metadata": {},
   "outputs": [
    {
     "data": {
      "text/plain": [
       "(1, 1)"
      ]
     },
     "execution_count": 188,
     "metadata": {},
     "output_type": "execute_result"
    }
   ],
   "source": [
    "ans, j"
   ]
  },
  {
   "cell_type": "code",
   "execution_count": 191,
   "metadata": {},
   "outputs": [],
   "source": []
  },
  {
   "cell_type": "code",
   "execution_count": 190,
   "metadata": {},
   "outputs": [
    {
     "data": {
      "text/plain": [
       "(3, 3)"
      ]
     },
     "execution_count": 190,
     "metadata": {},
     "output_type": "execute_result"
    }
   ],
   "source": [
    "ans, j"
   ]
  },
  {
   "cell_type": "code",
   "execution_count": null,
   "metadata": {},
   "outputs": [],
   "source": []
  },
  {
   "cell_type": "code",
   "execution_count": 1,
   "metadata": {},
   "outputs": [
    {
     "name": "stdout",
     "output_type": "stream",
     "text": [
      "10 53462\n",
      "103 35322 232 342 21099 90000 18843 9010 35221 19352\n"
     ]
    }
   ],
   "source": [
    "for j in range(K):   \n",
    "    for i in range(N-j):\n",
    "        if sum(a[s:s+j+1]) < K:\n",
    "            now = sum(a[s:s+j+1])\n",
    "#            print(s, i, j, now)\n",
    "            s += 1\n",
    "        elif sum(a[s:s+j+1]) >= K:\n",
    "            now = sum(a[s:s+j+1])\n",
    "            ans += 1\n",
    "#            print(s, i, j, now, ans)\n",
    "            s += 1\n",
    "    s = 0\n",
    "print(ans)   "
   ]
  },
  {
   "cell_type": "code",
   "execution_count": 46,
   "metadata": {},
   "outputs": [
    {
     "data": {
      "text/plain": [
       "59"
      ]
     },
     "execution_count": 46,
     "metadata": {},
     "output_type": "execute_result"
    }
   ],
   "source": [
    "s"
   ]
  },
  {
   "cell_type": "code",
   "execution_count": null,
   "metadata": {},
   "outputs": [],
   "source": []
  },
  {
   "cell_type": "code",
   "execution_count": 47,
   "metadata": {},
   "outputs": [
    {
     "data": {
      "text/plain": [
       "1"
      ]
     },
     "execution_count": 47,
     "metadata": {},
     "output_type": "execute_result"
    }
   ],
   "source": [
    "s"
   ]
  },
  {
   "cell_type": "code",
   "execution_count": null,
   "metadata": {},
   "outputs": [],
   "source": []
  },
  {
   "cell_type": "code",
   "execution_count": 13,
   "metadata": {},
   "outputs": [],
   "source": [
    "s = 0\n",
    "e = 2"
   ]
  },
  {
   "cell_type": "code",
   "execution_count": 14,
   "metadata": {},
   "outputs": [
    {
     "data": {
      "text/plain": [
       "[103, 35322, 232, 342, 21099, 90000, 18843, 9010, 35221, 19352]"
      ]
     },
     "execution_count": 14,
     "metadata": {},
     "output_type": "execute_result"
    }
   ],
   "source": [
    "a"
   ]
  },
  {
   "cell_type": "code",
   "execution_count": 16,
   "metadata": {},
   "outputs": [
    {
     "data": {
      "text/plain": [
       "[103]"
      ]
     },
     "execution_count": 16,
     "metadata": {},
     "output_type": "execute_result"
    }
   ],
   "source": [
    "a[s:s+1]"
   ]
  },
  {
   "cell_type": "code",
   "execution_count": 12,
   "metadata": {},
   "outputs": [
    {
     "ename": "NameError",
     "evalue": "name 'e' is not defined",
     "output_type": "error",
     "traceback": [
      "\u001b[0;31m---------------------------------------------------------------------------\u001b[0m",
      "\u001b[0;31mNameError\u001b[0m                                 Traceback (most recent call last)",
      "\u001b[0;32m<ipython-input-12-b97ed5edb84e>\u001b[0m in \u001b[0;36m<module>\u001b[0;34m\u001b[0m\n\u001b[0;32m----> 1\u001b[0;31m \u001b[0msum\u001b[0m\u001b[0;34m(\u001b[0m\u001b[0ma\u001b[0m\u001b[0;34m[\u001b[0m\u001b[0ms\u001b[0m\u001b[0;34m:\u001b[0m\u001b[0me\u001b[0m\u001b[0;34m]\u001b[0m\u001b[0;34m)\u001b[0m\u001b[0;34m\u001b[0m\u001b[0;34m\u001b[0m\u001b[0m\n\u001b[0m",
      "\u001b[0;31mNameError\u001b[0m: name 'e' is not defined"
     ]
    }
   ],
   "source": [
    "sum(a[s:e])"
   ]
  },
  {
   "cell_type": "code",
   "execution_count": null,
   "metadata": {},
   "outputs": [],
   "source": []
  }
 ],
 "metadata": {
  "kernelspec": {
   "display_name": "Python 3",
   "language": "python",
   "name": "python3"
  },
  "language_info": {
   "codemirror_mode": {
    "name": "ipython",
    "version": 3
   },
   "file_extension": ".py",
   "mimetype": "text/x-python",
   "name": "python",
   "nbconvert_exporter": "python",
   "pygments_lexer": "ipython3",
   "version": "3.7.3"
  }
 },
 "nbformat": 4,
 "nbformat_minor": 2
}
